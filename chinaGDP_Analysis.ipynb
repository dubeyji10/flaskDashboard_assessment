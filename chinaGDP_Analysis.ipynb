{
  "nbformat": 4,
  "nbformat_minor": 0,
  "metadata": {
    "colab": {
      "name": "chinaGDP_Analysis.ipynb",
      "provenance": [],
      "collapsed_sections": [],
      "toc_visible": true
    },
    "kernelspec": {
      "name": "python3",
      "display_name": "Python 3"
    },
    "language_info": {
      "name": "python"
    }
  },
  "cells": [
    {
      "cell_type": "markdown",
      "source": [
        "# Historical GDP data of China from 1961 to 2021."
      ],
      "metadata": {
        "id": "qyQkXNyEDjDb"
      }
    },
    {
      "cell_type": "markdown",
      "source": [
        "#### uploaded china gdp csv to a secret gist for easier access [Here](https://gist.githubusercontent.com/dubeyji10/5a4050ab54917c74ea48185f39436e21/raw/c4f9ddf03efb42aeca9aebe4ec345c7763afa637/chinaGDP_1.csv)"
      ],
      "metadata": {
        "id": "Is-s_yktN1OP"
      }
    },
    {
      "cell_type": "markdown",
      "source": [
        "\n",
        "## China GDP Data analysis\n"
      ],
      "metadata": {
        "id": "6bN_EkKsCmM0"
      }
    },
    {
      "cell_type": "markdown",
      "source": [
        "### upload csv dataset from local source or get using requests module"
      ],
      "metadata": {
        "id": "isPn23K5CpM2"
      }
    },
    {
      "cell_type": "code",
      "execution_count": 2,
      "metadata": {
        "colab": {
          "base_uri": "https://localhost:8080/"
        },
        "id": "tWoVxo05CiuF",
        "outputId": "75b7f249-9ea3-4ecc-9c9d-00f36a7573f0"
      },
      "outputs": [
        {
          "output_type": "stream",
          "name": "stdout",
          "text": [
            "connected\n"
          ]
        }
      ],
      "source": [
        "print('connected')"
      ]
    },
    {
      "cell_type": "code",
      "source": [
        "%%time\n",
        "\n",
        "import requests\n",
        "url  = \"https://gist.githubusercontent.com/dubeyji10/5a4050ab54917c74ea48185f39436e21/raw/c4f9ddf03efb42aeca9aebe4ec345c7763afa637/chinaGDP_1.csv\"\n",
        "\n",
        "print('...making a request')\n",
        "response = requests.request(\"GET\", url)\n",
        "print('total chars : ',len(response.text))\n",
        "with open('China_GDP_Data.csv','w') as f:\n",
        "  f.write(response.text)\n",
        "  print('..written data to a csv file')"
      ],
      "metadata": {
        "colab": {
          "base_uri": "https://localhost:8080/"
        },
        "id": "V3XATgxDOLf4",
        "outputId": "a6eccbcb-6cee-4072-d223-696f92ae8d6f"
      },
      "execution_count": 3,
      "outputs": [
        {
          "output_type": "stream",
          "name": "stdout",
          "text": [
            "...making a request\n",
            "total chars :  1342\n",
            "..written data to a csv file\n",
            "CPU times: user 94.1 ms, sys: 8.15 ms, total: 102 ms\n",
            "Wall time: 305 ms\n"
          ]
        }
      ]
    },
    {
      "cell_type": "markdown",
      "source": [
        "### Importing pandas for quick csv read and other data operations"
      ],
      "metadata": {
        "id": "Aer2447bCy_m"
      }
    },
    {
      "cell_type": "code",
      "source": [
        "import pandas as pd"
      ],
      "metadata": {
        "id": "SL8xDlytCs1Q"
      },
      "execution_count": 4,
      "outputs": []
    },
    {
      "cell_type": "code",
      "source": [
        "!ls"
      ],
      "metadata": {
        "colab": {
          "base_uri": "https://localhost:8080/"
        },
        "id": "awlvCxbRO9ca",
        "outputId": "ce97e258-db12-4ccc-b9b7-e747ec2dbe02"
      },
      "execution_count": 5,
      "outputs": [
        {
          "output_type": "stream",
          "name": "stdout",
          "text": [
            "China_GDP_Data.csv  sample_data\n"
          ]
        }
      ]
    },
    {
      "cell_type": "code",
      "source": [
        "data = pd.read_csv('/content/China_GDP_Data.csv')\n",
        "print('read')"
      ],
      "metadata": {
        "colab": {
          "base_uri": "https://localhost:8080/"
        },
        "id": "B6KieLToC7aP",
        "outputId": "f94eff1a-7695-4b4e-a984-aad915546040"
      },
      "execution_count": 6,
      "outputs": [
        {
          "output_type": "stream",
          "name": "stdout",
          "text": [
            "read\n"
          ]
        }
      ]
    },
    {
      "cell_type": "code",
      "source": [
        "data"
      ],
      "metadata": {
        "colab": {
          "base_uri": "https://localhost:8080/",
          "height": 424
        },
        "id": "PJUKvPhHDAJG",
        "outputId": "08b95d0e-f996-4688-b9c7-180c37ffaa4b"
      },
      "execution_count": 7,
      "outputs": [
        {
          "output_type": "execute_result",
          "data": {
            "text/plain": [
              "    Year  GDP_In_Billion_USD  Per_Capita_in_USD  Percentage_Growth \n",
              "0   2021             3173.40               2277                8.95\n",
              "1   2020             2667.69               1933               -6.60\n",
              "2   2019             2831.55               2072                3.74\n",
              "3   2018             2702.93               1998                6.45\n",
              "4   2017             2651.47               1981                6.80\n",
              "..   ...                 ...                ...                 ...\n",
              "56  1965               59.55                119               -2.64\n",
              "57  1964               56.48                116                7.45\n",
              "58  1963               48.42                101                5.99\n",
              "59  1962               42.16                 90                2.93\n",
              "60  1961               39.23                 85                3.72\n",
              "\n",
              "[61 rows x 4 columns]"
            ],
            "text/html": [
              "\n",
              "  <div id=\"df-1c8529cc-0205-49be-ae15-dccd4caff6df\">\n",
              "    <div class=\"colab-df-container\">\n",
              "      <div>\n",
              "<style scoped>\n",
              "    .dataframe tbody tr th:only-of-type {\n",
              "        vertical-align: middle;\n",
              "    }\n",
              "\n",
              "    .dataframe tbody tr th {\n",
              "        vertical-align: top;\n",
              "    }\n",
              "\n",
              "    .dataframe thead th {\n",
              "        text-align: right;\n",
              "    }\n",
              "</style>\n",
              "<table border=\"1\" class=\"dataframe\">\n",
              "  <thead>\n",
              "    <tr style=\"text-align: right;\">\n",
              "      <th></th>\n",
              "      <th>Year</th>\n",
              "      <th>GDP_In_Billion_USD</th>\n",
              "      <th>Per_Capita_in_USD</th>\n",
              "      <th>Percentage_Growth</th>\n",
              "    </tr>\n",
              "  </thead>\n",
              "  <tbody>\n",
              "    <tr>\n",
              "      <th>0</th>\n",
              "      <td>2021</td>\n",
              "      <td>3173.40</td>\n",
              "      <td>2277</td>\n",
              "      <td>8.95</td>\n",
              "    </tr>\n",
              "    <tr>\n",
              "      <th>1</th>\n",
              "      <td>2020</td>\n",
              "      <td>2667.69</td>\n",
              "      <td>1933</td>\n",
              "      <td>-6.60</td>\n",
              "    </tr>\n",
              "    <tr>\n",
              "      <th>2</th>\n",
              "      <td>2019</td>\n",
              "      <td>2831.55</td>\n",
              "      <td>2072</td>\n",
              "      <td>3.74</td>\n",
              "    </tr>\n",
              "    <tr>\n",
              "      <th>3</th>\n",
              "      <td>2018</td>\n",
              "      <td>2702.93</td>\n",
              "      <td>1998</td>\n",
              "      <td>6.45</td>\n",
              "    </tr>\n",
              "    <tr>\n",
              "      <th>4</th>\n",
              "      <td>2017</td>\n",
              "      <td>2651.47</td>\n",
              "      <td>1981</td>\n",
              "      <td>6.80</td>\n",
              "    </tr>\n",
              "    <tr>\n",
              "      <th>...</th>\n",
              "      <td>...</td>\n",
              "      <td>...</td>\n",
              "      <td>...</td>\n",
              "      <td>...</td>\n",
              "    </tr>\n",
              "    <tr>\n",
              "      <th>56</th>\n",
              "      <td>1965</td>\n",
              "      <td>59.55</td>\n",
              "      <td>119</td>\n",
              "      <td>-2.64</td>\n",
              "    </tr>\n",
              "    <tr>\n",
              "      <th>57</th>\n",
              "      <td>1964</td>\n",
              "      <td>56.48</td>\n",
              "      <td>116</td>\n",
              "      <td>7.45</td>\n",
              "    </tr>\n",
              "    <tr>\n",
              "      <th>58</th>\n",
              "      <td>1963</td>\n",
              "      <td>48.42</td>\n",
              "      <td>101</td>\n",
              "      <td>5.99</td>\n",
              "    </tr>\n",
              "    <tr>\n",
              "      <th>59</th>\n",
              "      <td>1962</td>\n",
              "      <td>42.16</td>\n",
              "      <td>90</td>\n",
              "      <td>2.93</td>\n",
              "    </tr>\n",
              "    <tr>\n",
              "      <th>60</th>\n",
              "      <td>1961</td>\n",
              "      <td>39.23</td>\n",
              "      <td>85</td>\n",
              "      <td>3.72</td>\n",
              "    </tr>\n",
              "  </tbody>\n",
              "</table>\n",
              "<p>61 rows × 4 columns</p>\n",
              "</div>\n",
              "      <button class=\"colab-df-convert\" onclick=\"convertToInteractive('df-1c8529cc-0205-49be-ae15-dccd4caff6df')\"\n",
              "              title=\"Convert this dataframe to an interactive table.\"\n",
              "              style=\"display:none;\">\n",
              "        \n",
              "  <svg xmlns=\"http://www.w3.org/2000/svg\" height=\"24px\"viewBox=\"0 0 24 24\"\n",
              "       width=\"24px\">\n",
              "    <path d=\"M0 0h24v24H0V0z\" fill=\"none\"/>\n",
              "    <path d=\"M18.56 5.44l.94 2.06.94-2.06 2.06-.94-2.06-.94-.94-2.06-.94 2.06-2.06.94zm-11 1L8.5 8.5l.94-2.06 2.06-.94-2.06-.94L8.5 2.5l-.94 2.06-2.06.94zm10 10l.94 2.06.94-2.06 2.06-.94-2.06-.94-.94-2.06-.94 2.06-2.06.94z\"/><path d=\"M17.41 7.96l-1.37-1.37c-.4-.4-.92-.59-1.43-.59-.52 0-1.04.2-1.43.59L10.3 9.45l-7.72 7.72c-.78.78-.78 2.05 0 2.83L4 21.41c.39.39.9.59 1.41.59.51 0 1.02-.2 1.41-.59l7.78-7.78 2.81-2.81c.8-.78.8-2.07 0-2.86zM5.41 20L4 18.59l7.72-7.72 1.47 1.35L5.41 20z\"/>\n",
              "  </svg>\n",
              "      </button>\n",
              "      \n",
              "  <style>\n",
              "    .colab-df-container {\n",
              "      display:flex;\n",
              "      flex-wrap:wrap;\n",
              "      gap: 12px;\n",
              "    }\n",
              "\n",
              "    .colab-df-convert {\n",
              "      background-color: #E8F0FE;\n",
              "      border: none;\n",
              "      border-radius: 50%;\n",
              "      cursor: pointer;\n",
              "      display: none;\n",
              "      fill: #1967D2;\n",
              "      height: 32px;\n",
              "      padding: 0 0 0 0;\n",
              "      width: 32px;\n",
              "    }\n",
              "\n",
              "    .colab-df-convert:hover {\n",
              "      background-color: #E2EBFA;\n",
              "      box-shadow: 0px 1px 2px rgba(60, 64, 67, 0.3), 0px 1px 3px 1px rgba(60, 64, 67, 0.15);\n",
              "      fill: #174EA6;\n",
              "    }\n",
              "\n",
              "    [theme=dark] .colab-df-convert {\n",
              "      background-color: #3B4455;\n",
              "      fill: #D2E3FC;\n",
              "    }\n",
              "\n",
              "    [theme=dark] .colab-df-convert:hover {\n",
              "      background-color: #434B5C;\n",
              "      box-shadow: 0px 1px 3px 1px rgba(0, 0, 0, 0.15);\n",
              "      filter: drop-shadow(0px 1px 2px rgba(0, 0, 0, 0.3));\n",
              "      fill: #FFFFFF;\n",
              "    }\n",
              "  </style>\n",
              "\n",
              "      <script>\n",
              "        const buttonEl =\n",
              "          document.querySelector('#df-1c8529cc-0205-49be-ae15-dccd4caff6df button.colab-df-convert');\n",
              "        buttonEl.style.display =\n",
              "          google.colab.kernel.accessAllowed ? 'block' : 'none';\n",
              "\n",
              "        async function convertToInteractive(key) {\n",
              "          const element = document.querySelector('#df-1c8529cc-0205-49be-ae15-dccd4caff6df');\n",
              "          const dataTable =\n",
              "            await google.colab.kernel.invokeFunction('convertToInteractive',\n",
              "                                                     [key], {});\n",
              "          if (!dataTable) return;\n",
              "\n",
              "          const docLinkHtml = 'Like what you see? Visit the ' +\n",
              "            '<a target=\"_blank\" href=https://colab.research.google.com/notebooks/data_table.ipynb>data table notebook</a>'\n",
              "            + ' to learn more about interactive tables.';\n",
              "          element.innerHTML = '';\n",
              "          dataTable['output_type'] = 'display_data';\n",
              "          await google.colab.output.renderOutput(dataTable, element);\n",
              "          const docLink = document.createElement('div');\n",
              "          docLink.innerHTML = docLinkHtml;\n",
              "          element.appendChild(docLink);\n",
              "        }\n",
              "      </script>\n",
              "    </div>\n",
              "  </div>\n",
              "  "
            ]
          },
          "metadata": {},
          "execution_count": 7
        }
      ]
    },
    {
      "cell_type": "markdown",
      "source": [
        "### Columns (headers)"
      ],
      "metadata": {
        "id": "zB1Dof8wDC0i"
      }
    },
    {
      "cell_type": "code",
      "source": [
        "columns = data.columns"
      ],
      "metadata": {
        "id": "c1g9AZUwDA6W"
      },
      "execution_count": 8,
      "outputs": []
    },
    {
      "cell_type": "code",
      "source": [
        "columns"
      ],
      "metadata": {
        "colab": {
          "base_uri": "https://localhost:8080/"
        },
        "id": "laLrCusvDGpe",
        "outputId": "32effb45-9a9c-4a87-96be-996f9bc7ab79"
      },
      "execution_count": 9,
      "outputs": [
        {
          "output_type": "execute_result",
          "data": {
            "text/plain": [
              "Index(['Year', 'GDP_In_Billion_USD', 'Per_Capita_in_USD',\n",
              "       'Percentage_Growth '],\n",
              "      dtype='object')"
            ]
          },
          "metadata": {},
          "execution_count": 9
        }
      ]
    },
    {
      "cell_type": "markdown",
      "source": [
        "##### note : last column is \"'Percentage_Growth '\" -- a space in the column name"
      ],
      "metadata": {
        "id": "rqJutiHDDJ7l"
      }
    },
    {
      "cell_type": "markdown",
      "source": [
        "### Task #1 best 5 and worst 5 years"
      ],
      "metadata": {
        "id": "7ZzGq3jtECNs"
      }
    },
    {
      "cell_type": "markdown",
      "source": [
        "## Rows with 5 highest GDP_In_Billion_USD"
      ],
      "metadata": {
        "id": "pNu98winEMv6"
      }
    },
    {
      "cell_type": "code",
      "source": [
        "data.nlargest(5,columns = ['GDP_In_Billion_USD'])"
      ],
      "metadata": {
        "colab": {
          "base_uri": "https://localhost:8080/",
          "height": 206
        },
        "id": "Foiq9S13EHgZ",
        "outputId": "d3623f48-7634-47ec-9261-28ba6b81839e"
      },
      "execution_count": 10,
      "outputs": [
        {
          "output_type": "execute_result",
          "data": {
            "text/plain": [
              "   Year  GDP_In_Billion_USD  Per_Capita_in_USD  Percentage_Growth \n",
              "0  2021             3173.40               2277                8.95\n",
              "2  2019             2831.55               2072                3.74\n",
              "3  2018             2702.93               1998                6.45\n",
              "1  2020             2667.69               1933               -6.60\n",
              "4  2017             2651.47               1981                6.80"
            ],
            "text/html": [
              "\n",
              "  <div id=\"df-cfd498e8-dde9-48e3-b1c2-0a74763d43df\">\n",
              "    <div class=\"colab-df-container\">\n",
              "      <div>\n",
              "<style scoped>\n",
              "    .dataframe tbody tr th:only-of-type {\n",
              "        vertical-align: middle;\n",
              "    }\n",
              "\n",
              "    .dataframe tbody tr th {\n",
              "        vertical-align: top;\n",
              "    }\n",
              "\n",
              "    .dataframe thead th {\n",
              "        text-align: right;\n",
              "    }\n",
              "</style>\n",
              "<table border=\"1\" class=\"dataframe\">\n",
              "  <thead>\n",
              "    <tr style=\"text-align: right;\">\n",
              "      <th></th>\n",
              "      <th>Year</th>\n",
              "      <th>GDP_In_Billion_USD</th>\n",
              "      <th>Per_Capita_in_USD</th>\n",
              "      <th>Percentage_Growth</th>\n",
              "    </tr>\n",
              "  </thead>\n",
              "  <tbody>\n",
              "    <tr>\n",
              "      <th>0</th>\n",
              "      <td>2021</td>\n",
              "      <td>3173.40</td>\n",
              "      <td>2277</td>\n",
              "      <td>8.95</td>\n",
              "    </tr>\n",
              "    <tr>\n",
              "      <th>2</th>\n",
              "      <td>2019</td>\n",
              "      <td>2831.55</td>\n",
              "      <td>2072</td>\n",
              "      <td>3.74</td>\n",
              "    </tr>\n",
              "    <tr>\n",
              "      <th>3</th>\n",
              "      <td>2018</td>\n",
              "      <td>2702.93</td>\n",
              "      <td>1998</td>\n",
              "      <td>6.45</td>\n",
              "    </tr>\n",
              "    <tr>\n",
              "      <th>1</th>\n",
              "      <td>2020</td>\n",
              "      <td>2667.69</td>\n",
              "      <td>1933</td>\n",
              "      <td>-6.60</td>\n",
              "    </tr>\n",
              "    <tr>\n",
              "      <th>4</th>\n",
              "      <td>2017</td>\n",
              "      <td>2651.47</td>\n",
              "      <td>1981</td>\n",
              "      <td>6.80</td>\n",
              "    </tr>\n",
              "  </tbody>\n",
              "</table>\n",
              "</div>\n",
              "      <button class=\"colab-df-convert\" onclick=\"convertToInteractive('df-cfd498e8-dde9-48e3-b1c2-0a74763d43df')\"\n",
              "              title=\"Convert this dataframe to an interactive table.\"\n",
              "              style=\"display:none;\">\n",
              "        \n",
              "  <svg xmlns=\"http://www.w3.org/2000/svg\" height=\"24px\"viewBox=\"0 0 24 24\"\n",
              "       width=\"24px\">\n",
              "    <path d=\"M0 0h24v24H0V0z\" fill=\"none\"/>\n",
              "    <path d=\"M18.56 5.44l.94 2.06.94-2.06 2.06-.94-2.06-.94-.94-2.06-.94 2.06-2.06.94zm-11 1L8.5 8.5l.94-2.06 2.06-.94-2.06-.94L8.5 2.5l-.94 2.06-2.06.94zm10 10l.94 2.06.94-2.06 2.06-.94-2.06-.94-.94-2.06-.94 2.06-2.06.94z\"/><path d=\"M17.41 7.96l-1.37-1.37c-.4-.4-.92-.59-1.43-.59-.52 0-1.04.2-1.43.59L10.3 9.45l-7.72 7.72c-.78.78-.78 2.05 0 2.83L4 21.41c.39.39.9.59 1.41.59.51 0 1.02-.2 1.41-.59l7.78-7.78 2.81-2.81c.8-.78.8-2.07 0-2.86zM5.41 20L4 18.59l7.72-7.72 1.47 1.35L5.41 20z\"/>\n",
              "  </svg>\n",
              "      </button>\n",
              "      \n",
              "  <style>\n",
              "    .colab-df-container {\n",
              "      display:flex;\n",
              "      flex-wrap:wrap;\n",
              "      gap: 12px;\n",
              "    }\n",
              "\n",
              "    .colab-df-convert {\n",
              "      background-color: #E8F0FE;\n",
              "      border: none;\n",
              "      border-radius: 50%;\n",
              "      cursor: pointer;\n",
              "      display: none;\n",
              "      fill: #1967D2;\n",
              "      height: 32px;\n",
              "      padding: 0 0 0 0;\n",
              "      width: 32px;\n",
              "    }\n",
              "\n",
              "    .colab-df-convert:hover {\n",
              "      background-color: #E2EBFA;\n",
              "      box-shadow: 0px 1px 2px rgba(60, 64, 67, 0.3), 0px 1px 3px 1px rgba(60, 64, 67, 0.15);\n",
              "      fill: #174EA6;\n",
              "    }\n",
              "\n",
              "    [theme=dark] .colab-df-convert {\n",
              "      background-color: #3B4455;\n",
              "      fill: #D2E3FC;\n",
              "    }\n",
              "\n",
              "    [theme=dark] .colab-df-convert:hover {\n",
              "      background-color: #434B5C;\n",
              "      box-shadow: 0px 1px 3px 1px rgba(0, 0, 0, 0.15);\n",
              "      filter: drop-shadow(0px 1px 2px rgba(0, 0, 0, 0.3));\n",
              "      fill: #FFFFFF;\n",
              "    }\n",
              "  </style>\n",
              "\n",
              "      <script>\n",
              "        const buttonEl =\n",
              "          document.querySelector('#df-cfd498e8-dde9-48e3-b1c2-0a74763d43df button.colab-df-convert');\n",
              "        buttonEl.style.display =\n",
              "          google.colab.kernel.accessAllowed ? 'block' : 'none';\n",
              "\n",
              "        async function convertToInteractive(key) {\n",
              "          const element = document.querySelector('#df-cfd498e8-dde9-48e3-b1c2-0a74763d43df');\n",
              "          const dataTable =\n",
              "            await google.colab.kernel.invokeFunction('convertToInteractive',\n",
              "                                                     [key], {});\n",
              "          if (!dataTable) return;\n",
              "\n",
              "          const docLinkHtml = 'Like what you see? Visit the ' +\n",
              "            '<a target=\"_blank\" href=https://colab.research.google.com/notebooks/data_table.ipynb>data table notebook</a>'\n",
              "            + ' to learn more about interactive tables.';\n",
              "          element.innerHTML = '';\n",
              "          dataTable['output_type'] = 'display_data';\n",
              "          await google.colab.output.renderOutput(dataTable, element);\n",
              "          const docLink = document.createElement('div');\n",
              "          docLink.innerHTML = docLinkHtml;\n",
              "          element.appendChild(docLink);\n",
              "        }\n",
              "      </script>\n",
              "    </div>\n",
              "  </div>\n",
              "  "
            ]
          },
          "metadata": {},
          "execution_count": 10
        }
      ]
    },
    {
      "cell_type": "markdown",
      "source": [
        "## Rows with 5 highest Per_Capita_in_USD"
      ],
      "metadata": {
        "id": "a45wXPRhE5aS"
      }
    },
    {
      "cell_type": "code",
      "source": [
        "data.nlargest(5,columns = ['Per_Capita_in_USD'])"
      ],
      "metadata": {
        "colab": {
          "base_uri": "https://localhost:8080/",
          "height": 206
        },
        "outputId": "ba50c924-9b04-4b51-fb14-3da69b42305b",
        "id": "5VSyrmJKE5aU"
      },
      "execution_count": 11,
      "outputs": [
        {
          "output_type": "execute_result",
          "data": {
            "text/plain": [
              "   Year  GDP_In_Billion_USD  Per_Capita_in_USD  Percentage_Growth \n",
              "0  2021             3173.40               2277                8.95\n",
              "2  2019             2831.55               2072                3.74\n",
              "3  2018             2702.93               1998                6.45\n",
              "4  2017             2651.47               1981                6.80\n",
              "1  2020             2667.69               1933               -6.60"
            ],
            "text/html": [
              "\n",
              "  <div id=\"df-1558cb6d-fa9d-4bf9-878d-25aae84e2b8c\">\n",
              "    <div class=\"colab-df-container\">\n",
              "      <div>\n",
              "<style scoped>\n",
              "    .dataframe tbody tr th:only-of-type {\n",
              "        vertical-align: middle;\n",
              "    }\n",
              "\n",
              "    .dataframe tbody tr th {\n",
              "        vertical-align: top;\n",
              "    }\n",
              "\n",
              "    .dataframe thead th {\n",
              "        text-align: right;\n",
              "    }\n",
              "</style>\n",
              "<table border=\"1\" class=\"dataframe\">\n",
              "  <thead>\n",
              "    <tr style=\"text-align: right;\">\n",
              "      <th></th>\n",
              "      <th>Year</th>\n",
              "      <th>GDP_In_Billion_USD</th>\n",
              "      <th>Per_Capita_in_USD</th>\n",
              "      <th>Percentage_Growth</th>\n",
              "    </tr>\n",
              "  </thead>\n",
              "  <tbody>\n",
              "    <tr>\n",
              "      <th>0</th>\n",
              "      <td>2021</td>\n",
              "      <td>3173.40</td>\n",
              "      <td>2277</td>\n",
              "      <td>8.95</td>\n",
              "    </tr>\n",
              "    <tr>\n",
              "      <th>2</th>\n",
              "      <td>2019</td>\n",
              "      <td>2831.55</td>\n",
              "      <td>2072</td>\n",
              "      <td>3.74</td>\n",
              "    </tr>\n",
              "    <tr>\n",
              "      <th>3</th>\n",
              "      <td>2018</td>\n",
              "      <td>2702.93</td>\n",
              "      <td>1998</td>\n",
              "      <td>6.45</td>\n",
              "    </tr>\n",
              "    <tr>\n",
              "      <th>4</th>\n",
              "      <td>2017</td>\n",
              "      <td>2651.47</td>\n",
              "      <td>1981</td>\n",
              "      <td>6.80</td>\n",
              "    </tr>\n",
              "    <tr>\n",
              "      <th>1</th>\n",
              "      <td>2020</td>\n",
              "      <td>2667.69</td>\n",
              "      <td>1933</td>\n",
              "      <td>-6.60</td>\n",
              "    </tr>\n",
              "  </tbody>\n",
              "</table>\n",
              "</div>\n",
              "      <button class=\"colab-df-convert\" onclick=\"convertToInteractive('df-1558cb6d-fa9d-4bf9-878d-25aae84e2b8c')\"\n",
              "              title=\"Convert this dataframe to an interactive table.\"\n",
              "              style=\"display:none;\">\n",
              "        \n",
              "  <svg xmlns=\"http://www.w3.org/2000/svg\" height=\"24px\"viewBox=\"0 0 24 24\"\n",
              "       width=\"24px\">\n",
              "    <path d=\"M0 0h24v24H0V0z\" fill=\"none\"/>\n",
              "    <path d=\"M18.56 5.44l.94 2.06.94-2.06 2.06-.94-2.06-.94-.94-2.06-.94 2.06-2.06.94zm-11 1L8.5 8.5l.94-2.06 2.06-.94-2.06-.94L8.5 2.5l-.94 2.06-2.06.94zm10 10l.94 2.06.94-2.06 2.06-.94-2.06-.94-.94-2.06-.94 2.06-2.06.94z\"/><path d=\"M17.41 7.96l-1.37-1.37c-.4-.4-.92-.59-1.43-.59-.52 0-1.04.2-1.43.59L10.3 9.45l-7.72 7.72c-.78.78-.78 2.05 0 2.83L4 21.41c.39.39.9.59 1.41.59.51 0 1.02-.2 1.41-.59l7.78-7.78 2.81-2.81c.8-.78.8-2.07 0-2.86zM5.41 20L4 18.59l7.72-7.72 1.47 1.35L5.41 20z\"/>\n",
              "  </svg>\n",
              "      </button>\n",
              "      \n",
              "  <style>\n",
              "    .colab-df-container {\n",
              "      display:flex;\n",
              "      flex-wrap:wrap;\n",
              "      gap: 12px;\n",
              "    }\n",
              "\n",
              "    .colab-df-convert {\n",
              "      background-color: #E8F0FE;\n",
              "      border: none;\n",
              "      border-radius: 50%;\n",
              "      cursor: pointer;\n",
              "      display: none;\n",
              "      fill: #1967D2;\n",
              "      height: 32px;\n",
              "      padding: 0 0 0 0;\n",
              "      width: 32px;\n",
              "    }\n",
              "\n",
              "    .colab-df-convert:hover {\n",
              "      background-color: #E2EBFA;\n",
              "      box-shadow: 0px 1px 2px rgba(60, 64, 67, 0.3), 0px 1px 3px 1px rgba(60, 64, 67, 0.15);\n",
              "      fill: #174EA6;\n",
              "    }\n",
              "\n",
              "    [theme=dark] .colab-df-convert {\n",
              "      background-color: #3B4455;\n",
              "      fill: #D2E3FC;\n",
              "    }\n",
              "\n",
              "    [theme=dark] .colab-df-convert:hover {\n",
              "      background-color: #434B5C;\n",
              "      box-shadow: 0px 1px 3px 1px rgba(0, 0, 0, 0.15);\n",
              "      filter: drop-shadow(0px 1px 2px rgba(0, 0, 0, 0.3));\n",
              "      fill: #FFFFFF;\n",
              "    }\n",
              "  </style>\n",
              "\n",
              "      <script>\n",
              "        const buttonEl =\n",
              "          document.querySelector('#df-1558cb6d-fa9d-4bf9-878d-25aae84e2b8c button.colab-df-convert');\n",
              "        buttonEl.style.display =\n",
              "          google.colab.kernel.accessAllowed ? 'block' : 'none';\n",
              "\n",
              "        async function convertToInteractive(key) {\n",
              "          const element = document.querySelector('#df-1558cb6d-fa9d-4bf9-878d-25aae84e2b8c');\n",
              "          const dataTable =\n",
              "            await google.colab.kernel.invokeFunction('convertToInteractive',\n",
              "                                                     [key], {});\n",
              "          if (!dataTable) return;\n",
              "\n",
              "          const docLinkHtml = 'Like what you see? Visit the ' +\n",
              "            '<a target=\"_blank\" href=https://colab.research.google.com/notebooks/data_table.ipynb>data table notebook</a>'\n",
              "            + ' to learn more about interactive tables.';\n",
              "          element.innerHTML = '';\n",
              "          dataTable['output_type'] = 'display_data';\n",
              "          await google.colab.output.renderOutput(dataTable, element);\n",
              "          const docLink = document.createElement('div');\n",
              "          docLink.innerHTML = docLinkHtml;\n",
              "          element.appendChild(docLink);\n",
              "        }\n",
              "      </script>\n",
              "    </div>\n",
              "  </div>\n",
              "  "
            ]
          },
          "metadata": {},
          "execution_count": 11
        }
      ]
    },
    {
      "cell_type": "markdown",
      "source": [
        "### Rows with 5 highest combination of 'GDP_In_Billion_USD', and'Per_Capita_in_USD'"
      ],
      "metadata": {
        "id": "ZxfmHmXiFF96"
      }
    },
    {
      "cell_type": "code",
      "source": [
        "data.nlargest(5,columns = ['GDP_In_Billion_USD','Per_Capita_in_USD'])"
      ],
      "metadata": {
        "colab": {
          "base_uri": "https://localhost:8080/",
          "height": 206
        },
        "id": "SjRRF_VwE-S3",
        "outputId": "46bfb8fb-0b5f-46c4-c532-ecd10ada1d10"
      },
      "execution_count": 12,
      "outputs": [
        {
          "output_type": "execute_result",
          "data": {
            "text/plain": [
              "   Year  GDP_In_Billion_USD  Per_Capita_in_USD  Percentage_Growth \n",
              "0  2021             3173.40               2277                8.95\n",
              "2  2019             2831.55               2072                3.74\n",
              "3  2018             2702.93               1998                6.45\n",
              "1  2020             2667.69               1933               -6.60\n",
              "4  2017             2651.47               1981                6.80"
            ],
            "text/html": [
              "\n",
              "  <div id=\"df-67351c52-9a36-4b38-bad0-f98ab8f6d380\">\n",
              "    <div class=\"colab-df-container\">\n",
              "      <div>\n",
              "<style scoped>\n",
              "    .dataframe tbody tr th:only-of-type {\n",
              "        vertical-align: middle;\n",
              "    }\n",
              "\n",
              "    .dataframe tbody tr th {\n",
              "        vertical-align: top;\n",
              "    }\n",
              "\n",
              "    .dataframe thead th {\n",
              "        text-align: right;\n",
              "    }\n",
              "</style>\n",
              "<table border=\"1\" class=\"dataframe\">\n",
              "  <thead>\n",
              "    <tr style=\"text-align: right;\">\n",
              "      <th></th>\n",
              "      <th>Year</th>\n",
              "      <th>GDP_In_Billion_USD</th>\n",
              "      <th>Per_Capita_in_USD</th>\n",
              "      <th>Percentage_Growth</th>\n",
              "    </tr>\n",
              "  </thead>\n",
              "  <tbody>\n",
              "    <tr>\n",
              "      <th>0</th>\n",
              "      <td>2021</td>\n",
              "      <td>3173.40</td>\n",
              "      <td>2277</td>\n",
              "      <td>8.95</td>\n",
              "    </tr>\n",
              "    <tr>\n",
              "      <th>2</th>\n",
              "      <td>2019</td>\n",
              "      <td>2831.55</td>\n",
              "      <td>2072</td>\n",
              "      <td>3.74</td>\n",
              "    </tr>\n",
              "    <tr>\n",
              "      <th>3</th>\n",
              "      <td>2018</td>\n",
              "      <td>2702.93</td>\n",
              "      <td>1998</td>\n",
              "      <td>6.45</td>\n",
              "    </tr>\n",
              "    <tr>\n",
              "      <th>1</th>\n",
              "      <td>2020</td>\n",
              "      <td>2667.69</td>\n",
              "      <td>1933</td>\n",
              "      <td>-6.60</td>\n",
              "    </tr>\n",
              "    <tr>\n",
              "      <th>4</th>\n",
              "      <td>2017</td>\n",
              "      <td>2651.47</td>\n",
              "      <td>1981</td>\n",
              "      <td>6.80</td>\n",
              "    </tr>\n",
              "  </tbody>\n",
              "</table>\n",
              "</div>\n",
              "      <button class=\"colab-df-convert\" onclick=\"convertToInteractive('df-67351c52-9a36-4b38-bad0-f98ab8f6d380')\"\n",
              "              title=\"Convert this dataframe to an interactive table.\"\n",
              "              style=\"display:none;\">\n",
              "        \n",
              "  <svg xmlns=\"http://www.w3.org/2000/svg\" height=\"24px\"viewBox=\"0 0 24 24\"\n",
              "       width=\"24px\">\n",
              "    <path d=\"M0 0h24v24H0V0z\" fill=\"none\"/>\n",
              "    <path d=\"M18.56 5.44l.94 2.06.94-2.06 2.06-.94-2.06-.94-.94-2.06-.94 2.06-2.06.94zm-11 1L8.5 8.5l.94-2.06 2.06-.94-2.06-.94L8.5 2.5l-.94 2.06-2.06.94zm10 10l.94 2.06.94-2.06 2.06-.94-2.06-.94-.94-2.06-.94 2.06-2.06.94z\"/><path d=\"M17.41 7.96l-1.37-1.37c-.4-.4-.92-.59-1.43-.59-.52 0-1.04.2-1.43.59L10.3 9.45l-7.72 7.72c-.78.78-.78 2.05 0 2.83L4 21.41c.39.39.9.59 1.41.59.51 0 1.02-.2 1.41-.59l7.78-7.78 2.81-2.81c.8-.78.8-2.07 0-2.86zM5.41 20L4 18.59l7.72-7.72 1.47 1.35L5.41 20z\"/>\n",
              "  </svg>\n",
              "      </button>\n",
              "      \n",
              "  <style>\n",
              "    .colab-df-container {\n",
              "      display:flex;\n",
              "      flex-wrap:wrap;\n",
              "      gap: 12px;\n",
              "    }\n",
              "\n",
              "    .colab-df-convert {\n",
              "      background-color: #E8F0FE;\n",
              "      border: none;\n",
              "      border-radius: 50%;\n",
              "      cursor: pointer;\n",
              "      display: none;\n",
              "      fill: #1967D2;\n",
              "      height: 32px;\n",
              "      padding: 0 0 0 0;\n",
              "      width: 32px;\n",
              "    }\n",
              "\n",
              "    .colab-df-convert:hover {\n",
              "      background-color: #E2EBFA;\n",
              "      box-shadow: 0px 1px 2px rgba(60, 64, 67, 0.3), 0px 1px 3px 1px rgba(60, 64, 67, 0.15);\n",
              "      fill: #174EA6;\n",
              "    }\n",
              "\n",
              "    [theme=dark] .colab-df-convert {\n",
              "      background-color: #3B4455;\n",
              "      fill: #D2E3FC;\n",
              "    }\n",
              "\n",
              "    [theme=dark] .colab-df-convert:hover {\n",
              "      background-color: #434B5C;\n",
              "      box-shadow: 0px 1px 3px 1px rgba(0, 0, 0, 0.15);\n",
              "      filter: drop-shadow(0px 1px 2px rgba(0, 0, 0, 0.3));\n",
              "      fill: #FFFFFF;\n",
              "    }\n",
              "  </style>\n",
              "\n",
              "      <script>\n",
              "        const buttonEl =\n",
              "          document.querySelector('#df-67351c52-9a36-4b38-bad0-f98ab8f6d380 button.colab-df-convert');\n",
              "        buttonEl.style.display =\n",
              "          google.colab.kernel.accessAllowed ? 'block' : 'none';\n",
              "\n",
              "        async function convertToInteractive(key) {\n",
              "          const element = document.querySelector('#df-67351c52-9a36-4b38-bad0-f98ab8f6d380');\n",
              "          const dataTable =\n",
              "            await google.colab.kernel.invokeFunction('convertToInteractive',\n",
              "                                                     [key], {});\n",
              "          if (!dataTable) return;\n",
              "\n",
              "          const docLinkHtml = 'Like what you see? Visit the ' +\n",
              "            '<a target=\"_blank\" href=https://colab.research.google.com/notebooks/data_table.ipynb>data table notebook</a>'\n",
              "            + ' to learn more about interactive tables.';\n",
              "          element.innerHTML = '';\n",
              "          dataTable['output_type'] = 'display_data';\n",
              "          await google.colab.output.renderOutput(dataTable, element);\n",
              "          const docLink = document.createElement('div');\n",
              "          docLink.innerHTML = docLinkHtml;\n",
              "          element.appendChild(docLink);\n",
              "        }\n",
              "      </script>\n",
              "    </div>\n",
              "  </div>\n",
              "  "
            ]
          },
          "metadata": {},
          "execution_count": 12
        }
      ]
    },
    {
      "cell_type": "markdown",
      "source": [
        "### Rows with 5 highest combination of 'Percentage_Growth'"
      ],
      "metadata": {
        "id": "-Jrrxd2JFa2h"
      }
    },
    {
      "cell_type": "code",
      "source": [
        "data.nlargest(5,columns = ['Percentage_Growth '])"
      ],
      "metadata": {
        "colab": {
          "base_uri": "https://localhost:8080/",
          "height": 206
        },
        "id": "zHGjCeO2Fgpy",
        "outputId": "643a189c-07e0-42e1-df79-b48c7b8f3244"
      },
      "execution_count": 13,
      "outputs": [
        {
          "output_type": "execute_result",
          "data": {
            "text/plain": [
              "    Year  GDP_In_Billion_USD  Per_Capita_in_USD  Percentage_Growth \n",
              "33  1988              296.59                354                9.63\n",
              "46  1975               98.47                158                9.15\n",
              "0   2021             3173.40               2277                8.95\n",
              "22  1999              458.82                442                8.85\n",
              "11  2010             1675.62               1358                8.50"
            ],
            "text/html": [
              "\n",
              "  <div id=\"df-e2536279-bc48-4b96-9b94-025abdf5149c\">\n",
              "    <div class=\"colab-df-container\">\n",
              "      <div>\n",
              "<style scoped>\n",
              "    .dataframe tbody tr th:only-of-type {\n",
              "        vertical-align: middle;\n",
              "    }\n",
              "\n",
              "    .dataframe tbody tr th {\n",
              "        vertical-align: top;\n",
              "    }\n",
              "\n",
              "    .dataframe thead th {\n",
              "        text-align: right;\n",
              "    }\n",
              "</style>\n",
              "<table border=\"1\" class=\"dataframe\">\n",
              "  <thead>\n",
              "    <tr style=\"text-align: right;\">\n",
              "      <th></th>\n",
              "      <th>Year</th>\n",
              "      <th>GDP_In_Billion_USD</th>\n",
              "      <th>Per_Capita_in_USD</th>\n",
              "      <th>Percentage_Growth</th>\n",
              "    </tr>\n",
              "  </thead>\n",
              "  <tbody>\n",
              "    <tr>\n",
              "      <th>33</th>\n",
              "      <td>1988</td>\n",
              "      <td>296.59</td>\n",
              "      <td>354</td>\n",
              "      <td>9.63</td>\n",
              "    </tr>\n",
              "    <tr>\n",
              "      <th>46</th>\n",
              "      <td>1975</td>\n",
              "      <td>98.47</td>\n",
              "      <td>158</td>\n",
              "      <td>9.15</td>\n",
              "    </tr>\n",
              "    <tr>\n",
              "      <th>0</th>\n",
              "      <td>2021</td>\n",
              "      <td>3173.40</td>\n",
              "      <td>2277</td>\n",
              "      <td>8.95</td>\n",
              "    </tr>\n",
              "    <tr>\n",
              "      <th>22</th>\n",
              "      <td>1999</td>\n",
              "      <td>458.82</td>\n",
              "      <td>442</td>\n",
              "      <td>8.85</td>\n",
              "    </tr>\n",
              "    <tr>\n",
              "      <th>11</th>\n",
              "      <td>2010</td>\n",
              "      <td>1675.62</td>\n",
              "      <td>1358</td>\n",
              "      <td>8.50</td>\n",
              "    </tr>\n",
              "  </tbody>\n",
              "</table>\n",
              "</div>\n",
              "      <button class=\"colab-df-convert\" onclick=\"convertToInteractive('df-e2536279-bc48-4b96-9b94-025abdf5149c')\"\n",
              "              title=\"Convert this dataframe to an interactive table.\"\n",
              "              style=\"display:none;\">\n",
              "        \n",
              "  <svg xmlns=\"http://www.w3.org/2000/svg\" height=\"24px\"viewBox=\"0 0 24 24\"\n",
              "       width=\"24px\">\n",
              "    <path d=\"M0 0h24v24H0V0z\" fill=\"none\"/>\n",
              "    <path d=\"M18.56 5.44l.94 2.06.94-2.06 2.06-.94-2.06-.94-.94-2.06-.94 2.06-2.06.94zm-11 1L8.5 8.5l.94-2.06 2.06-.94-2.06-.94L8.5 2.5l-.94 2.06-2.06.94zm10 10l.94 2.06.94-2.06 2.06-.94-2.06-.94-.94-2.06-.94 2.06-2.06.94z\"/><path d=\"M17.41 7.96l-1.37-1.37c-.4-.4-.92-.59-1.43-.59-.52 0-1.04.2-1.43.59L10.3 9.45l-7.72 7.72c-.78.78-.78 2.05 0 2.83L4 21.41c.39.39.9.59 1.41.59.51 0 1.02-.2 1.41-.59l7.78-7.78 2.81-2.81c.8-.78.8-2.07 0-2.86zM5.41 20L4 18.59l7.72-7.72 1.47 1.35L5.41 20z\"/>\n",
              "  </svg>\n",
              "      </button>\n",
              "      \n",
              "  <style>\n",
              "    .colab-df-container {\n",
              "      display:flex;\n",
              "      flex-wrap:wrap;\n",
              "      gap: 12px;\n",
              "    }\n",
              "\n",
              "    .colab-df-convert {\n",
              "      background-color: #E8F0FE;\n",
              "      border: none;\n",
              "      border-radius: 50%;\n",
              "      cursor: pointer;\n",
              "      display: none;\n",
              "      fill: #1967D2;\n",
              "      height: 32px;\n",
              "      padding: 0 0 0 0;\n",
              "      width: 32px;\n",
              "    }\n",
              "\n",
              "    .colab-df-convert:hover {\n",
              "      background-color: #E2EBFA;\n",
              "      box-shadow: 0px 1px 2px rgba(60, 64, 67, 0.3), 0px 1px 3px 1px rgba(60, 64, 67, 0.15);\n",
              "      fill: #174EA6;\n",
              "    }\n",
              "\n",
              "    [theme=dark] .colab-df-convert {\n",
              "      background-color: #3B4455;\n",
              "      fill: #D2E3FC;\n",
              "    }\n",
              "\n",
              "    [theme=dark] .colab-df-convert:hover {\n",
              "      background-color: #434B5C;\n",
              "      box-shadow: 0px 1px 3px 1px rgba(0, 0, 0, 0.15);\n",
              "      filter: drop-shadow(0px 1px 2px rgba(0, 0, 0, 0.3));\n",
              "      fill: #FFFFFF;\n",
              "    }\n",
              "  </style>\n",
              "\n",
              "      <script>\n",
              "        const buttonEl =\n",
              "          document.querySelector('#df-e2536279-bc48-4b96-9b94-025abdf5149c button.colab-df-convert');\n",
              "        buttonEl.style.display =\n",
              "          google.colab.kernel.accessAllowed ? 'block' : 'none';\n",
              "\n",
              "        async function convertToInteractive(key) {\n",
              "          const element = document.querySelector('#df-e2536279-bc48-4b96-9b94-025abdf5149c');\n",
              "          const dataTable =\n",
              "            await google.colab.kernel.invokeFunction('convertToInteractive',\n",
              "                                                     [key], {});\n",
              "          if (!dataTable) return;\n",
              "\n",
              "          const docLinkHtml = 'Like what you see? Visit the ' +\n",
              "            '<a target=\"_blank\" href=https://colab.research.google.com/notebooks/data_table.ipynb>data table notebook</a>'\n",
              "            + ' to learn more about interactive tables.';\n",
              "          element.innerHTML = '';\n",
              "          dataTable['output_type'] = 'display_data';\n",
              "          await google.colab.output.renderOutput(dataTable, element);\n",
              "          const docLink = document.createElement('div');\n",
              "          docLink.innerHTML = docLinkHtml;\n",
              "          element.appendChild(docLink);\n",
              "        }\n",
              "      </script>\n",
              "    </div>\n",
              "  </div>\n",
              "  "
            ]
          },
          "metadata": {},
          "execution_count": 13
        }
      ]
    },
    {
      "cell_type": "markdown",
      "source": [
        "## So five best year in terms of GDP growth : \n",
        " - 1988\n",
        " - 1975\n",
        " - 2021\n",
        " - 1999\n",
        " - 2010"
      ],
      "metadata": {
        "id": "dge-PyNvFQyd"
      }
    },
    {
      "cell_type": "code",
      "source": [
        "data.nsmallest(5,columns = ['Percentage_Growth '])"
      ],
      "metadata": {
        "colab": {
          "base_uri": "https://localhost:8080/",
          "height": 206
        },
        "id": "mBHqbd8TFyib",
        "outputId": "f3af888c-15f9-40c8-c954-9a71692b309a"
      },
      "execution_count": 14,
      "outputs": [
        {
          "output_type": "execute_result",
          "data": {
            "text/plain": [
              "    Year  GDP_In_Billion_USD  Per_Capita_in_USD  Percentage_Growth \n",
              "1   2020             2667.69               1933               -6.60\n",
              "42  1979              152.99                224               -5.24\n",
              "56  1965               59.55                119               -2.64\n",
              "49  1972               71.46                123               -0.55\n",
              "55  1966               45.87                 90               -0.06"
            ],
            "text/html": [
              "\n",
              "  <div id=\"df-56c96b10-ee6f-4eb5-a8f7-4ae9ed1c6038\">\n",
              "    <div class=\"colab-df-container\">\n",
              "      <div>\n",
              "<style scoped>\n",
              "    .dataframe tbody tr th:only-of-type {\n",
              "        vertical-align: middle;\n",
              "    }\n",
              "\n",
              "    .dataframe tbody tr th {\n",
              "        vertical-align: top;\n",
              "    }\n",
              "\n",
              "    .dataframe thead th {\n",
              "        text-align: right;\n",
              "    }\n",
              "</style>\n",
              "<table border=\"1\" class=\"dataframe\">\n",
              "  <thead>\n",
              "    <tr style=\"text-align: right;\">\n",
              "      <th></th>\n",
              "      <th>Year</th>\n",
              "      <th>GDP_In_Billion_USD</th>\n",
              "      <th>Per_Capita_in_USD</th>\n",
              "      <th>Percentage_Growth</th>\n",
              "    </tr>\n",
              "  </thead>\n",
              "  <tbody>\n",
              "    <tr>\n",
              "      <th>1</th>\n",
              "      <td>2020</td>\n",
              "      <td>2667.69</td>\n",
              "      <td>1933</td>\n",
              "      <td>-6.60</td>\n",
              "    </tr>\n",
              "    <tr>\n",
              "      <th>42</th>\n",
              "      <td>1979</td>\n",
              "      <td>152.99</td>\n",
              "      <td>224</td>\n",
              "      <td>-5.24</td>\n",
              "    </tr>\n",
              "    <tr>\n",
              "      <th>56</th>\n",
              "      <td>1965</td>\n",
              "      <td>59.55</td>\n",
              "      <td>119</td>\n",
              "      <td>-2.64</td>\n",
              "    </tr>\n",
              "    <tr>\n",
              "      <th>49</th>\n",
              "      <td>1972</td>\n",
              "      <td>71.46</td>\n",
              "      <td>123</td>\n",
              "      <td>-0.55</td>\n",
              "    </tr>\n",
              "    <tr>\n",
              "      <th>55</th>\n",
              "      <td>1966</td>\n",
              "      <td>45.87</td>\n",
              "      <td>90</td>\n",
              "      <td>-0.06</td>\n",
              "    </tr>\n",
              "  </tbody>\n",
              "</table>\n",
              "</div>\n",
              "      <button class=\"colab-df-convert\" onclick=\"convertToInteractive('df-56c96b10-ee6f-4eb5-a8f7-4ae9ed1c6038')\"\n",
              "              title=\"Convert this dataframe to an interactive table.\"\n",
              "              style=\"display:none;\">\n",
              "        \n",
              "  <svg xmlns=\"http://www.w3.org/2000/svg\" height=\"24px\"viewBox=\"0 0 24 24\"\n",
              "       width=\"24px\">\n",
              "    <path d=\"M0 0h24v24H0V0z\" fill=\"none\"/>\n",
              "    <path d=\"M18.56 5.44l.94 2.06.94-2.06 2.06-.94-2.06-.94-.94-2.06-.94 2.06-2.06.94zm-11 1L8.5 8.5l.94-2.06 2.06-.94-2.06-.94L8.5 2.5l-.94 2.06-2.06.94zm10 10l.94 2.06.94-2.06 2.06-.94-2.06-.94-.94-2.06-.94 2.06-2.06.94z\"/><path d=\"M17.41 7.96l-1.37-1.37c-.4-.4-.92-.59-1.43-.59-.52 0-1.04.2-1.43.59L10.3 9.45l-7.72 7.72c-.78.78-.78 2.05 0 2.83L4 21.41c.39.39.9.59 1.41.59.51 0 1.02-.2 1.41-.59l7.78-7.78 2.81-2.81c.8-.78.8-2.07 0-2.86zM5.41 20L4 18.59l7.72-7.72 1.47 1.35L5.41 20z\"/>\n",
              "  </svg>\n",
              "      </button>\n",
              "      \n",
              "  <style>\n",
              "    .colab-df-container {\n",
              "      display:flex;\n",
              "      flex-wrap:wrap;\n",
              "      gap: 12px;\n",
              "    }\n",
              "\n",
              "    .colab-df-convert {\n",
              "      background-color: #E8F0FE;\n",
              "      border: none;\n",
              "      border-radius: 50%;\n",
              "      cursor: pointer;\n",
              "      display: none;\n",
              "      fill: #1967D2;\n",
              "      height: 32px;\n",
              "      padding: 0 0 0 0;\n",
              "      width: 32px;\n",
              "    }\n",
              "\n",
              "    .colab-df-convert:hover {\n",
              "      background-color: #E2EBFA;\n",
              "      box-shadow: 0px 1px 2px rgba(60, 64, 67, 0.3), 0px 1px 3px 1px rgba(60, 64, 67, 0.15);\n",
              "      fill: #174EA6;\n",
              "    }\n",
              "\n",
              "    [theme=dark] .colab-df-convert {\n",
              "      background-color: #3B4455;\n",
              "      fill: #D2E3FC;\n",
              "    }\n",
              "\n",
              "    [theme=dark] .colab-df-convert:hover {\n",
              "      background-color: #434B5C;\n",
              "      box-shadow: 0px 1px 3px 1px rgba(0, 0, 0, 0.15);\n",
              "      filter: drop-shadow(0px 1px 2px rgba(0, 0, 0, 0.3));\n",
              "      fill: #FFFFFF;\n",
              "    }\n",
              "  </style>\n",
              "\n",
              "      <script>\n",
              "        const buttonEl =\n",
              "          document.querySelector('#df-56c96b10-ee6f-4eb5-a8f7-4ae9ed1c6038 button.colab-df-convert');\n",
              "        buttonEl.style.display =\n",
              "          google.colab.kernel.accessAllowed ? 'block' : 'none';\n",
              "\n",
              "        async function convertToInteractive(key) {\n",
              "          const element = document.querySelector('#df-56c96b10-ee6f-4eb5-a8f7-4ae9ed1c6038');\n",
              "          const dataTable =\n",
              "            await google.colab.kernel.invokeFunction('convertToInteractive',\n",
              "                                                     [key], {});\n",
              "          if (!dataTable) return;\n",
              "\n",
              "          const docLinkHtml = 'Like what you see? Visit the ' +\n",
              "            '<a target=\"_blank\" href=https://colab.research.google.com/notebooks/data_table.ipynb>data table notebook</a>'\n",
              "            + ' to learn more about interactive tables.';\n",
              "          element.innerHTML = '';\n",
              "          dataTable['output_type'] = 'display_data';\n",
              "          await google.colab.output.renderOutput(dataTable, element);\n",
              "          const docLink = document.createElement('div');\n",
              "          docLink.innerHTML = docLinkHtml;\n",
              "          element.appendChild(docLink);\n",
              "        }\n",
              "      </script>\n",
              "    </div>\n",
              "  </div>\n",
              "  "
            ]
          },
          "metadata": {},
          "execution_count": 14
        }
      ]
    },
    {
      "cell_type": "markdown",
      "source": [
        "## So five worst year in terms of GDP growth : \n",
        " - 1966\n",
        " - 1969\n",
        " - 1972\n",
        " - 1979\n",
        " - 2020"
      ],
      "metadata": {
        "id": "TwnIHHlfGCiL"
      }
    },
    {
      "cell_type": "markdown",
      "source": [
        "### Visualzing data using matplotlib package"
      ],
      "metadata": {
        "id": "OT9cxS64GP5A"
      }
    },
    {
      "cell_type": "code",
      "source": [
        "from matplotlib import pyplot as plt\n",
        "# numpy to handle numpy arrays\n",
        "import numpy as np"
      ],
      "metadata": {
        "id": "-JQOWYGBFQQt"
      },
      "execution_count": 15,
      "outputs": []
    },
    {
      "cell_type": "markdown",
      "source": [
        "### #1 Year - vs - GDP_In_Billion_USD"
      ],
      "metadata": {
        "id": "uvKf5JcVGZ5y"
      }
    },
    {
      "cell_type": "code",
      "source": [
        "xAxis = data['Year'].to_numpy()\n",
        "yAxis = data['GDP_In_Billion_USD'].to_numpy()\n"
      ],
      "metadata": {
        "id": "aMu06Hg9GWV2"
      },
      "execution_count": 16,
      "outputs": []
    },
    {
      "cell_type": "code",
      "source": [
        "f = plt.figure()\n",
        "f.set_figwidth(8)\n",
        "f.set_figheight(5)\n",
        "plt.scatter(xAxis , yAxis,marker='*')\n",
        "plt.title(\"Year - vs - GDP_In_Billion_USD\")\n",
        "plt.ylabel(\"GDP_In_Billion_USD\")\n",
        "plt.xlabel(\"Years\")\n"
      ],
      "metadata": {
        "colab": {
          "base_uri": "https://localhost:8080/",
          "height": 367
        },
        "id": "q_gO4JFsHJ1T",
        "outputId": "6b0602c8-04a0-499a-e5d1-ab93f428595f"
      },
      "execution_count": 17,
      "outputs": [
        {
          "output_type": "execute_result",
          "data": {
            "text/plain": [
              "Text(0.5, 0, 'Years')"
            ]
          },
          "metadata": {},
          "execution_count": 17
        },
        {
          "output_type": "display_data",
          "data": {
            "text/plain": [
              "<Figure size 576x360 with 1 Axes>"
            ],
            "image/png": "[encoded data removed]"
          },
          "metadata": {
            "needs_background": "light"
          }
        }
      ]
    },
    {
      "cell_type": "markdown",
      "source": [
        "### #2 Per_Capita_in_USD and years"
      ],
      "metadata": {
        "id": "XrBvNv0ZJo1N"
      }
    },
    {
      "cell_type": "code",
      "source": [
        "xAxis = data['Year'].to_numpy()\n",
        "yAxis = data['Per_Capita_in_USD'].to_numpy()\n",
        "f = plt.figure()\n",
        "f.set_figwidth(8)\n",
        "f.set_figheight(6)\n",
        "plt.scatter(xAxis , yAxis,marker='*')\n",
        "plt.title(\"Year - vs - Per_Capita_in_USD\")\n",
        "plt.ylabel(\"Per_Capita_in_USD\")\n",
        "plt.xlabel(\"Years\")\n"
      ],
      "metadata": {
        "colab": {
          "base_uri": "https://localhost:8080/",
          "height": 421
        },
        "id": "yqZQQ875JoO8",
        "outputId": "dbd4fa19-6626-419d-cdf0-d29881920bf6"
      },
      "execution_count": 18,
      "outputs": [
        {
          "output_type": "execute_result",
          "data": {
            "text/plain": [
              "Text(0.5, 0, 'Years')"
            ]
          },
          "metadata": {},
          "execution_count": 18
        },
        {
          "output_type": "display_data",
          "data": {
            "text/plain": [
              "<Figure size 576x432 with 1 Axes>"
            ],
            "image/png": "[encoded data removed]"
          },
          "metadata": {
            "needs_background": "light"
          }
        }
      ]
    },
    {
      "cell_type": "markdown",
      "source": [
        "### #3 Percentage growth for years"
      ],
      "metadata": {
        "id": "772JpdyVJ6ta"
      }
    },
    {
      "cell_type": "code",
      "source": [
        "xAxis = data['Year'].to_numpy()\n",
        "yAxis = data['Percentage_Growth '].to_numpy()\n",
        "f = plt.figure()\n",
        "f.set_figwidth(7)\n",
        "f.set_figheight(4)\n",
        "plt.scatter(xAxis , yAxis,marker='*')\n",
        "plt.title(\"Year - vs - Percentage_Growth\")\n",
        "plt.ylabel(\"Percentage_Growth\")\n",
        "plt.xlabel(\"Years\")\n"
      ],
      "metadata": {
        "colab": {
          "base_uri": "https://localhost:8080/",
          "height": 312
        },
        "id": "TwA2Qbq_J_oK",
        "outputId": "ecddfeda-9c68-4ddf-d12c-5dc5381c6b7a"
      },
      "execution_count": 19,
      "outputs": [
        {
          "output_type": "execute_result",
          "data": {
            "text/plain": [
              "Text(0.5, 0, 'Years')"
            ]
          },
          "metadata": {},
          "execution_count": 19
        },
        {
          "output_type": "display_data",
          "data": {
            "text/plain": [
              "<Figure size 504x288 with 1 Axes>"
            ],
            "image/png": "[encoded data removed]"
          },
          "metadata": {
            "needs_background": "light"
          }
        }
      ]
    },
    {
      "cell_type": "markdown",
      "source": [
        "### customizing colors for items condition : Percentage_Growth"
      ],
      "metadata": {
        "id": "N18sB1PPKTi6"
      }
    },
    {
      "cell_type": "code",
      "source": [
        "# current xAxis is percentage growth\n",
        "customColors = ['limegreen' if percent >= 8 else 'crimson' for percent in yAxis]"
      ],
      "metadata": {
        "id": "W-zWhz32KZXP"
      },
      "execution_count": 20,
      "outputs": []
    },
    {
      "cell_type": "code",
      "source": [
        "plt.scatter(xAxis , yAxis,marker='*' , color=customColors)\n",
        "plt.title(\"Year - vs - Percentage_Growth\")\n",
        "plt.ylabel(\"Percentage_Growth\")\n",
        "plt.xlabel(\"Years\")\n"
      ],
      "metadata": {
        "colab": {
          "base_uri": "https://localhost:8080/",
          "height": 312
        },
        "id": "frLtKgAsKjtF",
        "outputId": "c4a40918-c0f4-4ea3-b887-a4b17ebca2f6"
      },
      "execution_count": 21,
      "outputs": [
        {
          "output_type": "execute_result",
          "data": {
            "text/plain": [
              "Text(0.5, 0, 'Years')"
            ]
          },
          "metadata": {},
          "execution_count": 21
        },
        {
          "output_type": "display_data",
          "data": {
            "text/plain": [
              "<Figure size 432x288 with 1 Axes>"
            ],
            "image/png": "[encoded data removed]"
          },
          "metadata": {
            "needs_background": "light"
          }
        }
      ]
    },
    {
      "cell_type": "markdown",
      "source": [
        "### test for bar"
      ],
      "metadata": {
        "id": "rvpoB8hr1PkL"
      }
    },
    {
      "cell_type": "code",
      "source": [
        "plt.bar(xAxis , yAxis, color=customColors)\n",
        "plt.title(\"Year - vs - Percentage_Growth\")\n",
        "plt.ylabel(\"Percentage_Growth\")\n",
        "plt.xlabel(\"Years\")\n"
      ],
      "metadata": {
        "colab": {
          "base_uri": "https://localhost:8080/",
          "height": 312
        },
        "id": "hHIVS6tP1O8E",
        "outputId": "7b53119a-8940-4f1a-b482-92a2c0c30617"
      },
      "execution_count": 22,
      "outputs": [
        {
          "output_type": "execute_result",
          "data": {
            "text/plain": [
              "Text(0.5, 0, 'Years')"
            ]
          },
          "metadata": {},
          "execution_count": 22
        },
        {
          "output_type": "display_data",
          "data": {
            "text/plain": [
              "<Figure size 432x288 with 1 Axes>"
            ],
            "image/png": "[encoded data removed]"
          },
          "metadata": {
            "needs_background": "light"
          }
        }
      ]
    },
    {
      "cell_type": "markdown",
      "source": [
        "### percentage growth -- xAxis"
      ],
      "metadata": {
        "id": "nIeFKmn5N7PC"
      }
    },
    {
      "cell_type": "markdown",
      "source": [
        "### maximum of percentage an its index"
      ],
      "metadata": {
        "id": "KqS18z6VNusL"
      }
    },
    {
      "cell_type": "code",
      "source": [
        "maxPer = np.max(yAxis)\n",
        "maxPer"
      ],
      "metadata": {
        "colab": {
          "base_uri": "https://localhost:8080/"
        },
        "id": "tw6pNd1YNz4p",
        "outputId": "0b4b75ef-e1b3-4038-8bc9-fa77873e2d04"
      },
      "execution_count": null,
      "outputs": [
        {
          "output_type": "execute_result",
          "data": {
            "text/plain": [
              "9.63"
            ]
          },
          "metadata": {},
          "execution_count": 136
        }
      ]
    },
    {
      "cell_type": "code",
      "source": [
        "yearPos = np.argmax(yAxis , axis=0)\n",
        "yearPos"
      ],
      "metadata": {
        "colab": {
          "base_uri": "https://localhost:8080/"
        },
        "id": "acO-bTckMag0",
        "outputId": "38b0ba4b-5d01-4e87-9bf1-4fba0450bad9"
      },
      "execution_count": null,
      "outputs": [
        {
          "output_type": "execute_result",
          "data": {
            "text/plain": [
              "33"
            ]
          },
          "metadata": {},
          "execution_count": 137
        }
      ]
    },
    {
      "cell_type": "code",
      "source": [
        "xAxis[yearPos]"
      ],
      "metadata": {
        "colab": {
          "base_uri": "https://localhost:8080/"
        },
        "id": "JB_hi_EjNjRb",
        "outputId": "843caf69-0d2c-41cd-f831-8d3f455f9108"
      },
      "execution_count": null,
      "outputs": [
        {
          "output_type": "execute_result",
          "data": {
            "text/plain": [
              "1988"
            ]
          },
          "metadata": {},
          "execution_count": 138
        }
      ]
    },
    {
      "cell_type": "markdown",
      "source": [
        "### best performing year in terms of %growth : 1988 with 9.63%"
      ],
      "metadata": {
        "id": "AqC-Ad5mP6DO"
      }
    },
    {
      "cell_type": "markdown",
      "source": [
        "# Visualizing percentage growth with years"
      ],
      "metadata": {
        "id": "yBoJYBXWT8uo"
      }
    },
    {
      "cell_type": "markdown",
      "source": [
        "### So max percentage growth received in year 1988"
      ],
      "metadata": {
        "id": "07N-Hyx4N_5S"
      }
    },
    {
      "cell_type": "markdown",
      "source": [
        "#### Same can be said from graph below"
      ],
      "metadata": {
        "id": "9rFN6dFNOFFq"
      }
    },
    {
      "cell_type": "code",
      "source": [
        "from matplotlib.patches import Patch\n",
        "from matplotlib.lines import Line2D\n",
        "\n",
        "legend_elements = [\n",
        "                  \n",
        "                   Line2D([0], [0], marker='*', color='limegreen', lw=0 , label='%growth>8',\n",
        "                          markerfacecolor='g', markersize=10),\n",
        "                   Line2D([0], [0], marker='*', color='crimson', lw=0 , label='%growth<8',\n",
        "                          markerfacecolor='g', markersize=10)\n",
        "                   ]\n",
        "\n",
        "# Create the figure\n",
        "fig, ax = plt.subplots()\n",
        "ax.legend(handles=legend_elements, loc='lower right')\n",
        "plt.scatter(xAxis , yAxis,marker='*' , color=customColors)\n",
        "plt.title(\"Year - vs - Percentage_Growth\")\n",
        "plt.ylabel(\"Percentage_Growth\")\n",
        "plt.xlabel(\"Years\")\n",
        "\n",
        "plt.show()"
      ],
      "metadata": {
        "colab": {
          "base_uri": "https://localhost:8080/",
          "height": 295
        },
        "id": "q2EYEfPINYfj",
        "outputId": "b38eb1a6-d7d6-4b09-af9b-6ba17ec6b1a8"
      },
      "execution_count": 23,
      "outputs": [
        {
          "output_type": "display_data",
          "data": {
            "text/plain": [
              "<Figure size 432x288 with 1 Axes>"
            ],
            "image/png": "[encoded data removed]"
          },
          "metadata": {
            "needs_background": "light"
          }
        }
      ]
    },
    {
      "cell_type": "markdown",
      "source": [
        "## ANNOTATION OF PERCENTAGE GROWTH"
      ],
      "metadata": {
        "id": "FknRJsi9Slcd"
      }
    },
    {
      "cell_type": "code",
      "source": [
        "fontSizes = [15 if percent >= 8 else 6 for percent in yAxis]\n",
        "print(fontSizes)"
      ],
      "metadata": {
        "id": "7-eX1VoESoqr",
        "colab": {
          "base_uri": "https://localhost:8080/"
        },
        "outputId": "5aa107d1-7abb-4db1-9bdf-6f51b474f79a"
      },
      "execution_count": 25,
      "outputs": [
        {
          "output_type": "stream",
          "name": "stdout",
          "text": [
            "[15, 6, 6, 6, 6, 15, 15, 6, 6, 6, 6, 15, 6, 6, 6, 15, 6, 6, 6, 6, 6, 6, 15, 6, 6, 6, 6, 6, 6, 6, 6, 6, 6, 15, 6, 6, 6, 6, 6, 6, 6, 6, 6, 6, 6, 6, 15, 6, 6, 6, 6, 6, 6, 6, 6, 6, 6, 6, 6, 6, 6]\n"
          ]
        }
      ]
    },
    {
      "cell_type": "code",
      "source": [
        "liste_summe = yAxis\n",
        "liste_datum = xAxis\n",
        "liste_string = yAxis\n",
        "\n",
        "f = plt.figure()\n",
        "\n",
        "f.set_figwidth(15)\n",
        "f.set_figheight(7)\n",
        "\n",
        "# plt.subplots_adjust(bottom=0.4)\n",
        "for s, d , fontSize in zip(liste_summe, liste_datum , fontSizes):\n",
        "    # print(\"s : \",s,\"d : \",d , 'font-size : ',fontSize)\n",
        "    plt.annotate(\"{} , {}\".format(s,d) , xy=(d,s) , fontsize= fontSize)\n",
        "\n",
        "    # plt.annotate(d, xy = (d,s ))\n",
        "'''\n",
        "    # plt.annotate(\"{} , {}\".format(s,d) , xy=(d,s) , fontsize= fontSize)\n",
        "'''\n",
        "\n",
        "plt.xticks(rotation = 90)\n",
        "\n",
        "plt.scatter(xAxis , yAxis,marker='*' , color=customColors)\n",
        "# plt.plot_date(liste_string, liste_summe)\n",
        "plt.title(\"Year - vs - Percentage_Growth\")\n",
        "plt.xlabel(\"Percentage_Growth\")\n",
        "plt.ylabel(\"Years\")\n",
        "\n",
        "plt.show()\n"
      ],
      "metadata": {
        "colab": {
          "base_uri": "https://localhost:8080/",
          "height": 475
        },
        "id": "VeIV7E2yP6dl",
        "outputId": "9702f9b0-dfb2-49ca-c9a9-b9d69b2fb127"
      },
      "execution_count": 26,
      "outputs": [
        {
          "output_type": "display_data",
          "data": {
            "text/plain": [
              "<Figure size 1080x504 with 1 Axes>"
            ],
            "image/png": "[encoded data removed]"
          },
          "metadata": {
            "needs_background": "light"
          }
        }
      ]
    },
    {
      "cell_type": "markdown",
      "source": [
        "### bar for the best and worst performing years"
      ],
      "metadata": {
        "id": "gkxR2Lao1dPL"
      }
    },
    {
      "cell_type": "code",
      "source": [
        "fontSizes = [15 if percent < 0 else 0 if percent<8 else 15 for percent in yAxis]\n",
        "print(fontSizes)\n"
      ],
      "metadata": {
        "colab": {
          "base_uri": "https://localhost:8080/"
        },
        "id": "rYnmrmtJ1yoT",
        "outputId": "aa055053-9104-4cc4-9fa9-9e053d299119"
      },
      "execution_count": 32,
      "outputs": [
        {
          "output_type": "stream",
          "name": "stdout",
          "text": [
            "[15, 15, 0, 0, 0, 15, 15, 0, 0, 0, 0, 15, 0, 0, 0, 15, 0, 0, 0, 0, 0, 0, 15, 0, 0, 0, 0, 0, 0, 0, 0, 0, 0, 15, 0, 0, 0, 0, 0, 0, 0, 0, 15, 0, 0, 0, 15, 0, 0, 15, 0, 0, 0, 0, 0, 15, 15, 0, 0, 0, 0]\n"
          ]
        }
      ]
    },
    {
      "cell_type": "code",
      "source": [
        "liste_summe = yAxis\n",
        "liste_datum = xAxis\n",
        "liste_string = yAxis\n",
        "\n",
        "f = plt.figure()\n",
        "\n",
        "f.set_figwidth(15)\n",
        "f.set_figheight(7)\n",
        "\n",
        "# plt.subplots_adjust(bottom=0.4)\n",
        "for s, d , fontSize in zip(liste_summe, liste_datum , fontSizes):\n",
        "    # print(\"s : \",s,\"d : \",d , 'font-size : ',fontSize)\n",
        "    plt.annotate(\"{} , {}\".format(s,d) , xy=(d,s) , fontsize= fontSize)\n",
        "\n",
        "    # plt.annotate(d, xy = (d,s ))\n",
        "'''\n",
        "    # plt.annotate(\"{} , {}\".format(s,d) , xy=(d,s) , fontsize= fontSize)\n",
        "'''\n",
        "\n",
        "plt.xticks(rotation = 90)\n",
        "\n",
        "plt.bar(xAxis , yAxis, color=customColors)\n",
        "# plt.plot_date(liste_string, liste_summe)\n",
        "plt.title(\"Year - vs - Percentage_Growth\")\n",
        "plt.xlabel(\"Percentage_Growth\")\n",
        "plt.ylabel(\"Years\")\n",
        "\n",
        "plt.show()\n"
      ],
      "metadata": {
        "colab": {
          "base_uri": "https://localhost:8080/",
          "height": 475
        },
        "id": "EMj8hlds1h6a",
        "outputId": "15f7b0b8-a1ca-43c3-d9b7-8be322ee23f4"
      },
      "execution_count": 33,
      "outputs": [
        {
          "output_type": "display_data",
          "data": {
            "text/plain": [
              "<Figure size 1080x504 with 1 Axes>"
            ],
            "image/png": "[encoded data removed]"
          },
          "metadata": {
            "needs_background": "light"
          }
        }
      ]
    },
    {
      "cell_type": "markdown",
      "source": [
        "### only best performing years"
      ],
      "metadata": {
        "id": "OF8oalVh1_d9"
      }
    },
    {
      "cell_type": "code",
      "source": [
        "yAxis"
      ],
      "metadata": {
        "colab": {
          "base_uri": "https://localhost:8080/"
        },
        "id": "HtHULM1_3ysb",
        "outputId": "a79cfff7-e566-4241-8181-0043e9432288"
      },
      "execution_count": 46,
      "outputs": [
        {
          "output_type": "execute_result",
          "data": {
            "text/plain": [
              "array([ 8.95, -6.6 ,  3.74,  6.45,  6.8 ,  8.26,  8.  ,  7.41,  6.39,\n",
              "        5.46,  5.24,  8.5 ,  7.86,  3.09,  7.66,  8.06,  7.92,  7.92,\n",
              "        7.86,  3.8 ,  4.82,  3.84,  8.85,  6.18,  4.05,  7.55,  7.57,\n",
              "        6.66,  4.75,  5.48,  1.06,  5.53,  5.95,  9.63,  3.97,  4.78,\n",
              "        5.25,  3.82,  7.29,  3.48,  6.01,  6.74, -5.24,  5.71,  7.25,\n",
              "        1.66,  9.15,  1.19,  3.3 , -0.55,  1.64,  5.16,  6.54,  3.39,\n",
              "        7.83, -0.06, -2.64,  7.45,  5.99,  2.93,  3.72])"
            ]
          },
          "metadata": {},
          "execution_count": 46
        }
      ]
    },
    {
      "cell_type": "code",
      "source": [
        "xAxis"
      ],
      "metadata": {
        "colab": {
          "base_uri": "https://localhost:8080/"
        },
        "id": "VM-tKml_30fV",
        "outputId": "2fb5f825-0a65-42b8-a3a9-de059f686f7c"
      },
      "execution_count": 47,
      "outputs": [
        {
          "output_type": "execute_result",
          "data": {
            "text/plain": [
              "array([2021, 2020, 2019, 2018, 2017, 2016, 2015, 2014, 2013, 2012, 2011,\n",
              "       2010, 2009, 2008, 2007, 2006, 2005, 2004, 2003, 2002, 2001, 2000,\n",
              "       1999, 1998, 1997, 1996, 1995, 1994, 1993, 1992, 1991, 1990, 1989,\n",
              "       1988, 1987, 1986, 1985, 1984, 1983, 1982, 1981, 1980, 1979, 1978,\n",
              "       1977, 1976, 1975, 1974, 1973, 1972, 1971, 1970, 1969, 1968, 1967,\n",
              "       1966, 1965, 1964, 1963, 1962, 1961])"
            ]
          },
          "metadata": {},
          "execution_count": 47
        }
      ]
    },
    {
      "cell_type": "code",
      "source": [
        "bestVal = max(yAxis)\n",
        "bestVal"
      ],
      "metadata": {
        "colab": {
          "base_uri": "https://localhost:8080/"
        },
        "id": "HYXNpfNR4SsQ",
        "outputId": "619d4c43-3676-43fc-e22b-5773abac2701"
      },
      "execution_count": 51,
      "outputs": [
        {
          "output_type": "execute_result",
          "data": {
            "text/plain": [
              "9.63"
            ]
          },
          "metadata": {},
          "execution_count": 51
        }
      ]
    },
    {
      "cell_type": "code",
      "source": [],
      "metadata": {
        "id": "8MfRVEfL40Io"
      },
      "execution_count": null,
      "outputs": []
    },
    {
      "cell_type": "code",
      "source": [],
      "metadata": {
        "id": "eSIFSBz71huD"
      },
      "execution_count": 63,
      "outputs": []
    },
    {
      "cell_type": "markdown",
      "source": [
        "### Plotting top N records"
      ],
      "metadata": {
        "id": "IqVLRZQu7FI5"
      }
    },
    {
      "cell_type": "code",
      "source": [
        "n = 5"
      ],
      "metadata": {
        "id": "ZXv1dpS07HtI"
      },
      "execution_count": 64,
      "outputs": []
    },
    {
      "cell_type": "code",
      "source": [
        "currDF_5  = data.nlargest(n,columns = ['Percentage_Growth '])\n",
        "currDF_5"
      ],
      "metadata": {
        "colab": {
          "base_uri": "https://localhost:8080/",
          "height": 206
        },
        "id": "TOzXSIZg3AUC",
        "outputId": "2eaf353c-e87d-4b78-9819-61430f41d905"
      },
      "execution_count": 65,
      "outputs": [
        {
          "output_type": "execute_result",
          "data": {
            "text/plain": [
              "    Year  GDP_In_Billion_USD  Per_Capita_in_USD  Percentage_Growth \n",
              "33  1988              296.59                354                9.63\n",
              "46  1975               98.47                158                9.15\n",
              "0   2021             3173.40               2277                8.95\n",
              "22  1999              458.82                442                8.85\n",
              "11  2010             1675.62               1358                8.50"
            ],
            "text/html": [
              "\n",
              "  <div id=\"df-29248d7a-1afd-4a8d-bc26-b6fff12cee8a\">\n",
              "    <div class=\"colab-df-container\">\n",
              "      <div>\n",
              "<style scoped>\n",
              "    .dataframe tbody tr th:only-of-type {\n",
              "        vertical-align: middle;\n",
              "    }\n",
              "\n",
              "    .dataframe tbody tr th {\n",
              "        vertical-align: top;\n",
              "    }\n",
              "\n",
              "    .dataframe thead th {\n",
              "        text-align: right;\n",
              "    }\n",
              "</style>\n",
              "<table border=\"1\" class=\"dataframe\">\n",
              "  <thead>\n",
              "    <tr style=\"text-align: right;\">\n",
              "      <th></th>\n",
              "      <th>Year</th>\n",
              "      <th>GDP_In_Billion_USD</th>\n",
              "      <th>Per_Capita_in_USD</th>\n",
              "      <th>Percentage_Growth</th>\n",
              "    </tr>\n",
              "  </thead>\n",
              "  <tbody>\n",
              "    <tr>\n",
              "      <th>33</th>\n",
              "      <td>1988</td>\n",
              "      <td>296.59</td>\n",
              "      <td>354</td>\n",
              "      <td>9.63</td>\n",
              "    </tr>\n",
              "    <tr>\n",
              "      <th>46</th>\n",
              "      <td>1975</td>\n",
              "      <td>98.47</td>\n",
              "      <td>158</td>\n",
              "      <td>9.15</td>\n",
              "    </tr>\n",
              "    <tr>\n",
              "      <th>0</th>\n",
              "      <td>2021</td>\n",
              "      <td>3173.40</td>\n",
              "      <td>2277</td>\n",
              "      <td>8.95</td>\n",
              "    </tr>\n",
              "    <tr>\n",
              "      <th>22</th>\n",
              "      <td>1999</td>\n",
              "      <td>458.82</td>\n",
              "      <td>442</td>\n",
              "      <td>8.85</td>\n",
              "    </tr>\n",
              "    <tr>\n",
              "      <th>11</th>\n",
              "      <td>2010</td>\n",
              "      <td>1675.62</td>\n",
              "      <td>1358</td>\n",
              "      <td>8.50</td>\n",
              "    </tr>\n",
              "  </tbody>\n",
              "</table>\n",
              "</div>\n",
              "      <button class=\"colab-df-convert\" onclick=\"convertToInteractive('df-29248d7a-1afd-4a8d-bc26-b6fff12cee8a')\"\n",
              "              title=\"Convert this dataframe to an interactive table.\"\n",
              "              style=\"display:none;\">\n",
              "        \n",
              "  <svg xmlns=\"http://www.w3.org/2000/svg\" height=\"24px\"viewBox=\"0 0 24 24\"\n",
              "       width=\"24px\">\n",
              "    <path d=\"M0 0h24v24H0V0z\" fill=\"none\"/>\n",
              "    <path d=\"M18.56 5.44l.94 2.06.94-2.06 2.06-.94-2.06-.94-.94-2.06-.94 2.06-2.06.94zm-11 1L8.5 8.5l.94-2.06 2.06-.94-2.06-.94L8.5 2.5l-.94 2.06-2.06.94zm10 10l.94 2.06.94-2.06 2.06-.94-2.06-.94-.94-2.06-.94 2.06-2.06.94z\"/><path d=\"M17.41 7.96l-1.37-1.37c-.4-.4-.92-.59-1.43-.59-.52 0-1.04.2-1.43.59L10.3 9.45l-7.72 7.72c-.78.78-.78 2.05 0 2.83L4 21.41c.39.39.9.59 1.41.59.51 0 1.02-.2 1.41-.59l7.78-7.78 2.81-2.81c.8-.78.8-2.07 0-2.86zM5.41 20L4 18.59l7.72-7.72 1.47 1.35L5.41 20z\"/>\n",
              "  </svg>\n",
              "      </button>\n",
              "      \n",
              "  <style>\n",
              "    .colab-df-container {\n",
              "      display:flex;\n",
              "      flex-wrap:wrap;\n",
              "      gap: 12px;\n",
              "    }\n",
              "\n",
              "    .colab-df-convert {\n",
              "      background-color: #E8F0FE;\n",
              "      border: none;\n",
              "      border-radius: 50%;\n",
              "      cursor: pointer;\n",
              "      display: none;\n",
              "      fill: #1967D2;\n",
              "      height: 32px;\n",
              "      padding: 0 0 0 0;\n",
              "      width: 32px;\n",
              "    }\n",
              "\n",
              "    .colab-df-convert:hover {\n",
              "      background-color: #E2EBFA;\n",
              "      box-shadow: 0px 1px 2px rgba(60, 64, 67, 0.3), 0px 1px 3px 1px rgba(60, 64, 67, 0.15);\n",
              "      fill: #174EA6;\n",
              "    }\n",
              "\n",
              "    [theme=dark] .colab-df-convert {\n",
              "      background-color: #3B4455;\n",
              "      fill: #D2E3FC;\n",
              "    }\n",
              "\n",
              "    [theme=dark] .colab-df-convert:hover {\n",
              "      background-color: #434B5C;\n",
              "      box-shadow: 0px 1px 3px 1px rgba(0, 0, 0, 0.15);\n",
              "      filter: drop-shadow(0px 1px 2px rgba(0, 0, 0, 0.3));\n",
              "      fill: #FFFFFF;\n",
              "    }\n",
              "  </style>\n",
              "\n",
              "      <script>\n",
              "        const buttonEl =\n",
              "          document.querySelector('#df-29248d7a-1afd-4a8d-bc26-b6fff12cee8a button.colab-df-convert');\n",
              "        buttonEl.style.display =\n",
              "          google.colab.kernel.accessAllowed ? 'block' : 'none';\n",
              "\n",
              "        async function convertToInteractive(key) {\n",
              "          const element = document.querySelector('#df-29248d7a-1afd-4a8d-bc26-b6fff12cee8a');\n",
              "          const dataTable =\n",
              "            await google.colab.kernel.invokeFunction('convertToInteractive',\n",
              "                                                     [key], {});\n",
              "          if (!dataTable) return;\n",
              "\n",
              "          const docLinkHtml = 'Like what you see? Visit the ' +\n",
              "            '<a target=\"_blank\" href=https://colab.research.google.com/notebooks/data_table.ipynb>data table notebook</a>'\n",
              "            + ' to learn more about interactive tables.';\n",
              "          element.innerHTML = '';\n",
              "          dataTable['output_type'] = 'display_data';\n",
              "          await google.colab.output.renderOutput(dataTable, element);\n",
              "          const docLink = document.createElement('div');\n",
              "          docLink.innerHTML = docLinkHtml;\n",
              "          element.appendChild(docLink);\n",
              "        }\n",
              "      </script>\n",
              "    </div>\n",
              "  </div>\n",
              "  "
            ]
          },
          "metadata": {},
          "execution_count": 65
        }
      ]
    },
    {
      "cell_type": "code",
      "source": [
        "yAxis_1  = currDF_5['Percentage_Growth ']\n",
        "xAxis_1  = [str(i) for i in currDF_5['Year'].values ]\n"
      ],
      "metadata": {
        "id": "vIZQdRvR57cW"
      },
      "execution_count": 66,
      "outputs": []
    },
    {
      "cell_type": "code",
      "source": [
        "plt.xticks(rotation = 90)\n",
        "\n",
        "plt.bar(xAxis_1 , yAxis_1)\n",
        "# plt.plot_date(liste_string, liste_summe)\n",
        "plt.title(\"BEST 5 YEARS Year - vs - Percentage_Growth\")\n",
        "plt.xlabel(\"Percentage_Growth\")\n",
        "plt.ylabel(\"Years\")\n"
      ],
      "metadata": {
        "colab": {
          "base_uri": "https://localhost:8080/",
          "height": 329
        },
        "id": "FaXfhG8n6Pqr",
        "outputId": "8c8d9b0e-bf4f-4b15-a41d-1d747a60110a"
      },
      "execution_count": 67,
      "outputs": [
        {
          "output_type": "execute_result",
          "data": {
            "text/plain": [
              "Text(0, 0.5, 'Years')"
            ]
          },
          "metadata": {},
          "execution_count": 67
        },
        {
          "output_type": "display_data",
          "data": {
            "text/plain": [
              "<Figure size 432x288 with 1 Axes>"
            ],
            "image/png": "[encoded data removed]"
          },
          "metadata": {
            "needs_background": "light"
          }
        }
      ]
    },
    {
      "cell_type": "code",
      "source": [],
      "metadata": {
        "id": "4jT8eTJz1YS2"
      },
      "execution_count": 67,
      "outputs": []
    },
    {
      "cell_type": "markdown",
      "source": [
        "### Visualizing cases for worst years also ( merge with best years )"
      ],
      "metadata": {
        "id": "gIt7Da1hUE81"
      }
    },
    {
      "cell_type": "code",
      "source": [
        "fiveSmallest_dataframe = data.nsmallest(5,columns = ['Percentage_Growth '])\n",
        "smallest5PercentageGrowthValues = fiveSmallest_dataframe['Percentage_Growth ']\n",
        "smallest5PercentageGrowthValues.to_numpy()"
      ],
      "metadata": {
        "colab": {
          "base_uri": "https://localhost:8080/"
        },
        "id": "dEvMvAEvUe8F",
        "outputId": "0fb83b75-73a1-4ef1-bb23-2296059b92c9"
      },
      "execution_count": 68,
      "outputs": [
        {
          "output_type": "execute_result",
          "data": {
            "text/plain": [
              "array([-6.6 , -5.24, -2.64, -0.55, -0.06])"
            ]
          },
          "metadata": {},
          "execution_count": 68
        }
      ]
    },
    {
      "cell_type": "markdown",
      "source": [
        "### so it is clear that worst year had a percentage growth < 0 ... -6.66%"
      ],
      "metadata": {
        "id": "vTncg869VRz_"
      }
    },
    {
      "cell_type": "code",
      "source": [
        "customColors2 = ['red' if percent < 0 else 'orange' if percent<8 else 'green' for percent in yAxis]\n",
        "print(customColors2)\n",
        "\n",
        "fontSizes2 = [15 if percent < 0 else 0 if percent<8 else 15 for percent in yAxis]\n",
        "print(fontSizes2)\n"
      ],
      "metadata": {
        "colab": {
          "base_uri": "https://localhost:8080/"
        },
        "id": "cqCd_eDtUP26",
        "outputId": "57feb447-26ef-42a7-b5e3-904c5d63ede7"
      },
      "execution_count": 69,
      "outputs": [
        {
          "output_type": "stream",
          "name": "stdout",
          "text": [
            "['green', 'red', 'orange', 'orange', 'orange', 'green', 'green', 'orange', 'orange', 'orange', 'orange', 'green', 'orange', 'orange', 'orange', 'green', 'orange', 'orange', 'orange', 'orange', 'orange', 'orange', 'green', 'orange', 'orange', 'orange', 'orange', 'orange', 'orange', 'orange', 'orange', 'orange', 'orange', 'green', 'orange', 'orange', 'orange', 'orange', 'orange', 'orange', 'orange', 'orange', 'red', 'orange', 'orange', 'orange', 'green', 'orange', 'orange', 'red', 'orange', 'orange', 'orange', 'orange', 'orange', 'red', 'red', 'orange', 'orange', 'orange', 'orange']\n",
            "[15, 15, 0, 0, 0, 15, 15, 0, 0, 0, 0, 15, 0, 0, 0, 15, 0, 0, 0, 0, 0, 0, 15, 0, 0, 0, 0, 0, 0, 0, 0, 0, 0, 15, 0, 0, 0, 0, 0, 0, 0, 0, 15, 0, 0, 0, 15, 0, 0, 15, 0, 0, 0, 0, 0, 15, 15, 0, 0, 0, 0]\n"
          ]
        }
      ]
    },
    {
      "cell_type": "markdown",
      "source": [
        "#### best and worst years have same font-size"
      ],
      "metadata": {
        "id": "pSvT0jiuWqwa"
      }
    },
    {
      "cell_type": "code",
      "source": [
        "liste_summe = yAxis\n",
        "liste_datum = xAxis\n",
        "liste_string = yAxis\n",
        "\n",
        "\n",
        "f = plt.figure()\n",
        "\n",
        "f.set_figwidth(15)\n",
        "f.set_figheight(7)\n",
        "\n",
        "# plt.subplots_adjust(bottom=0.4)\n",
        "for s, d , fontSize in zip(liste_summe, liste_datum , fontSizes2):\n",
        "    # print(\"s : \",s,\"d : \",d)\n",
        "    # plt.annotate(d, xy = (d,s ))\n",
        "    plt.annotate(\"{:.2f}% , {}\".format(s,d) , xy=(d,s) , fontsize= fontSize)\n",
        "plt.xticks(rotation = 90)\n",
        "\n",
        "plt.scatter(xAxis , yAxis,marker='*' , color=customColors2)\n",
        "# plt.hist()\n",
        "# plt.plot_date(liste_string, liste_summe)\n",
        "plt.title(\"Top five best year and worst year in terms of GDP growth using visualisation.\")\n",
        "plt.xlabel(\"Percentage_Growth\")\n",
        "plt.ylabel(\"Years\")\n",
        "\n",
        "plt.show()"
      ],
      "metadata": {
        "colab": {
          "base_uri": "https://localhost:8080/",
          "height": 475
        },
        "id": "hq98yAUHUNgs",
        "outputId": "ea17c2f7-13bf-445d-e76a-00d9fc91653c"
      },
      "execution_count": 70,
      "outputs": [
        {
          "output_type": "display_data",
          "data": {
            "text/plain": [
              "<Figure size 1080x504 with 1 Axes>"
            ],
            "image/png": "[encoded data removed]"
          },
          "metadata": {
            "needs_background": "light"
          }
        }
      ]
    },
    {
      "cell_type": "code",
      "source": [
        "# print(np.random.rand(1,len(yAxis)))\n",
        "somePoints = np.random.rand(len(yAxis),2)\n",
        "somePoints[0]"
      ],
      "metadata": {
        "colab": {
          "base_uri": "https://localhost:8080/"
        },
        "id": "fIt-OHi9ZgV_",
        "outputId": "b364fed3-048d-42b5-b1d4-2d858234545b"
      },
      "execution_count": null,
      "outputs": [
        {
          "output_type": "execute_result",
          "data": {
            "text/plain": [
              "array([0.40567404, 0.24543733])"
            ]
          },
          "metadata": {},
          "execution_count": 145
        }
      ]
    },
    {
      "cell_type": "code",
      "source": [
        "somePoints[0][0] , somePoints[0][1]\n"
      ],
      "metadata": {
        "colab": {
          "base_uri": "https://localhost:8080/"
        },
        "id": "SAv9WlKVerXj",
        "outputId": "be3d4c24-f899-4ec3-cfe3-0294e9437c50"
      },
      "execution_count": null,
      "outputs": [
        {
          "output_type": "execute_result",
          "data": {
            "text/plain": [
              "(0.40567403724658535, 0.24543732917404537)"
            ]
          },
          "metadata": {},
          "execution_count": 146
        }
      ]
    },
    {
      "cell_type": "markdown",
      "source": [
        "### arrrow annotation example ( needs too much time since graphic points are involved )"
      ],
      "metadata": {
        "id": "WKEkiG8Jgugf"
      }
    },
    {
      "cell_type": "markdown",
      "source": [
        "# Annotation is possible in python\n",
        "# But : \n",
        "- in python it is not interactive that is why I propose a web based solution for rendering points\n"
      ],
      "metadata": {
        "id": "8OHmx5zuWDuh"
      }
    },
    {
      "cell_type": "markdown",
      "source": [
        "## Time series analysis is avaiable at : \n",
        "\n",
        "https://gist.github.com/dubeyji10/3dc2f68b5b5542c7835bba07e0af28fd"
      ],
      "metadata": {
        "id": "WCjTh8TI7dZV"
      }
    }
  ]
}